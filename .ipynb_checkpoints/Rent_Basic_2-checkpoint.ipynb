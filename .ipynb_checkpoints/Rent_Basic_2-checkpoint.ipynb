{
 "cells": [
  {
   "cell_type": "code",
   "execution_count": 8,
   "id": "acca3d7b",
   "metadata": {},
   "outputs": [
    {
     "name": "stderr",
     "output_type": "stream",
     "text": [
      "C:\\Users\\user\\AppData\\Local\\Temp\\ipykernel_59216\\697499791.py:19: DeprecationWarning:\n",
      "\n",
      "Importing display from IPython.core.display is deprecated since IPython 7.14, please import from IPython display\n",
      "\n"
     ]
    },
    {
     "data": {
      "text/html": [
       "<style>.container { width:90% !important; }</style>"
      ],
      "text/plain": [
       "<IPython.core.display.HTML object>"
      ]
     },
     "metadata": {},
     "output_type": "display_data"
    }
   ],
   "source": [
    "# import the necessary libraries\n",
    "import pandas as pd\n",
    "import numpy as np\n",
    "from sklearn import preprocessing\n",
    "from numpy import set_printoptions\n",
    "import matplotlib.pyplot as plt\n",
    "import seaborn as sns\n",
    "import plotly.express as px\n",
    "import dtale\n",
    "\n",
    "from sklearn import preprocessing\n",
    "from sklearn.feature_selection import SelectKBest\n",
    "from sklearn.feature_selection import chi2 \n",
    "from sklearn.model_selection import train_test_split\n",
    "from sklearn.linear_model import LinearRegression\n",
    "from sklearn import metrics\n",
    "import statsmodels.api as sm\n",
    "\n",
    "from IPython.core.display import display, HTML\n",
    "display(HTML(\"<style>.container { width:90% !important; }</style>\"))"
   ]
  },
  {
   "cell_type": "code",
   "execution_count": 9,
   "id": "c1875ad5",
   "metadata": {},
   "outputs": [
    {
     "data": {
      "text/html": [
       "<div>\n",
       "<style scoped>\n",
       "    .dataframe tbody tr th:only-of-type {\n",
       "        vertical-align: middle;\n",
       "    }\n",
       "\n",
       "    .dataframe tbody tr th {\n",
       "        vertical-align: top;\n",
       "    }\n",
       "\n",
       "    .dataframe thead th {\n",
       "        text-align: right;\n",
       "    }\n",
       "</style>\n",
       "<table border=\"1\" class=\"dataframe\">\n",
       "  <thead>\n",
       "    <tr style=\"text-align: right;\">\n",
       "      <th></th>\n",
       "      <th>POSTED ON</th>\n",
       "      <th>BHK</th>\n",
       "      <th>RENT</th>\n",
       "      <th>SIZE</th>\n",
       "      <th>FLOOR</th>\n",
       "      <th>AREA TYPE</th>\n",
       "      <th>AREA LOCALITY</th>\n",
       "      <th>CITY</th>\n",
       "      <th>FURNISHING STATUS</th>\n",
       "      <th>TENANT PREFERRED</th>\n",
       "      <th>BATHROOM</th>\n",
       "      <th>POINT OF CONTACT</th>\n",
       "    </tr>\n",
       "  </thead>\n",
       "  <tbody>\n",
       "    <tr>\n",
       "      <th>0</th>\n",
       "      <td>2022-05-16</td>\n",
       "      <td>2</td>\n",
       "      <td>200000</td>\n",
       "      <td>1000</td>\n",
       "      <td>7 out of 8</td>\n",
       "      <td>Carpet Area</td>\n",
       "      <td>Union Park</td>\n",
       "      <td>Mumbai</td>\n",
       "      <td>Furnished</td>\n",
       "      <td>Bachelors/Family</td>\n",
       "      <td>2</td>\n",
       "      <td>Contact Agent</td>\n",
       "    </tr>\n",
       "    <tr>\n",
       "      <th>1</th>\n",
       "      <td>2022-05-14</td>\n",
       "      <td>3</td>\n",
       "      <td>200000</td>\n",
       "      <td>1208</td>\n",
       "      <td>5 out of 14</td>\n",
       "      <td>Carpet Area</td>\n",
       "      <td>Khar West</td>\n",
       "      <td>Mumbai</td>\n",
       "      <td>Unfurnished</td>\n",
       "      <td>Bachelors</td>\n",
       "      <td>3</td>\n",
       "      <td>Contact Agent</td>\n",
       "    </tr>\n",
       "  </tbody>\n",
       "</table>\n",
       "</div>"
      ],
      "text/plain": [
       "   POSTED ON  BHK    RENT  SIZE        FLOOR    AREA TYPE AREA LOCALITY  \\\n",
       "0 2022-05-16    2  200000  1000   7 out of 8  Carpet Area    Union Park   \n",
       "1 2022-05-14    3  200000  1208  5 out of 14  Carpet Area     Khar West   \n",
       "\n",
       "     CITY FURNISHING STATUS  TENANT PREFERRED  BATHROOM POINT OF CONTACT  \n",
       "0  Mumbai         Furnished  Bachelors/Family         2    Contact Agent  \n",
       "1  Mumbai       Unfurnished         Bachelors         3    Contact Agent  "
      ]
     },
     "execution_count": 9,
     "metadata": {},
     "output_type": "execute_result"
    }
   ],
   "source": [
    "\n",
    "# read the data \n",
    "df = pd.read_excel('House_Rent_Dataset Excel.xlsx')\n",
    "df.columns = df.columns.str.upper()   #convert the columns to uppercase \n",
    "df.head(2)"
   ]
  },
  {
   "cell_type": "code",
   "execution_count": null,
   "id": "81209ef8",
   "metadata": {},
   "outputs": [],
   "source": [
    "df.info()"
   ]
  },
  {
   "cell_type": "code",
   "execution_count": null,
   "id": "22cc70c8",
   "metadata": {},
   "outputs": [],
   "source": [
    "df.isna().sum()"
   ]
  },
  {
   "cell_type": "code",
   "execution_count": null,
   "id": "cb6f85da",
   "metadata": {},
   "outputs": [],
   "source": [
    "df.describe()"
   ]
  },
  {
   "cell_type": "code",
   "execution_count": 10,
   "id": "8f06f50e",
   "metadata": {},
   "outputs": [],
   "source": [
    "column_order = [col for col in df.columns if col != 'RENT'] + ['RENT']\n",
    "df = df[column_order]\n",
    "\n",
    "df[['FLOOR']] = df['FLOOR'].str.extract(r'(\\d+) out of ')\n",
    "df = df.fillna(value=0)\n",
    "df['FLOOR'] = df['FLOOR'].astype(int)\n",
    "\n",
    "import re\n",
    "\n",
    "Area_series = df['AREA LOCALITY']\n",
    "Area_string = Area_series.astype(str)\n",
    "output_series = Area_string.apply(lambda x: re.sub(r'\\d', '', x))\n",
    "df['AREA LOCALITY'] = output_series"
   ]
  },
  {
   "cell_type": "code",
   "execution_count": 11,
   "id": "a07d8ccd",
   "metadata": {},
   "outputs": [],
   "source": [
    "le = preprocessing.LabelEncoder()\n",
    "df['AREA TYPE'] = le.fit_transform(df['AREA TYPE'])\n",
    "df['AREA LOCALITY'] = le.fit_transform(df['AREA LOCALITY'])\n",
    "df['CITY'] = le.fit_transform(df['CITY'])\n",
    "df['FURNISHING STATUS'] = le.fit_transform(df['FURNISHING STATUS'])\n",
    "df['TENANT PREFERRED'] = le.fit_transform(df['TENANT PREFERRED'])\n",
    "df['POINT OF CONTACT'] = le.fit_transform(df['POINT OF CONTACT'])\n"
   ]
  },
  {
   "cell_type": "code",
   "execution_count": null,
   "id": "fee86f3c",
   "metadata": {},
   "outputs": [],
   "source": [
    "df.plot(kind='box', subplots=True, layout=(3, 4), sharex=False, sharey=False)\n",
    "plt.show()"
   ]
  },
  {
   "cell_type": "code",
   "execution_count": null,
   "id": "39423be4",
   "metadata": {},
   "outputs": [],
   "source": [
    "sns.pairplot(df)\n",
    "plt.show()"
   ]
  },
  {
   "cell_type": "code",
   "execution_count": null,
   "id": "35405577",
   "metadata": {},
   "outputs": [],
   "source": [
    "corr_matrix = df.corr()\n",
    "plt.figure(figsize=(8,5))\n",
    "sns.heatmap(corr_matrix, annot=True, cmap='coolwarm', fmt=\".2f\")\n",
    "plt.title('Correlation Matrix')\n",
    "plt.show()"
   ]
  },
  {
   "cell_type": "code",
   "execution_count": 12,
   "id": "14db9acb",
   "metadata": {},
   "outputs": [
    {
     "data": {
      "text/html": [
       "<div>\n",
       "<style scoped>\n",
       "    .dataframe tbody tr th:only-of-type {\n",
       "        vertical-align: middle;\n",
       "    }\n",
       "\n",
       "    .dataframe tbody tr th {\n",
       "        vertical-align: top;\n",
       "    }\n",
       "\n",
       "    .dataframe thead th {\n",
       "        text-align: right;\n",
       "    }\n",
       "</style>\n",
       "<table border=\"1\" class=\"dataframe\">\n",
       "  <thead>\n",
       "    <tr style=\"text-align: right;\">\n",
       "      <th></th>\n",
       "      <th>BHK</th>\n",
       "      <th>SIZE</th>\n",
       "      <th>FLOOR</th>\n",
       "      <th>AREA TYPE</th>\n",
       "      <th>CITY</th>\n",
       "      <th>FURNISHING STATUS</th>\n",
       "      <th>TENANT PREFERRED</th>\n",
       "      <th>BATHROOM</th>\n",
       "      <th>POINT OF CONTACT</th>\n",
       "      <th>RENT</th>\n",
       "    </tr>\n",
       "  </thead>\n",
       "  <tbody>\n",
       "    <tr>\n",
       "      <th>0</th>\n",
       "      <td>2</td>\n",
       "      <td>1000</td>\n",
       "      <td>7</td>\n",
       "      <td>1</td>\n",
       "      <td>5</td>\n",
       "      <td>0</td>\n",
       "      <td>1</td>\n",
       "      <td>2</td>\n",
       "      <td>0</td>\n",
       "      <td>200000</td>\n",
       "    </tr>\n",
       "    <tr>\n",
       "      <th>1</th>\n",
       "      <td>3</td>\n",
       "      <td>1208</td>\n",
       "      <td>5</td>\n",
       "      <td>1</td>\n",
       "      <td>5</td>\n",
       "      <td>2</td>\n",
       "      <td>0</td>\n",
       "      <td>3</td>\n",
       "      <td>0</td>\n",
       "      <td>200000</td>\n",
       "    </tr>\n",
       "  </tbody>\n",
       "</table>\n",
       "</div>"
      ],
      "text/plain": [
       "   BHK  SIZE  FLOOR  AREA TYPE  CITY  FURNISHING STATUS  TENANT PREFERRED  \\\n",
       "0    2  1000      7          1     5                  0                 1   \n",
       "1    3  1208      5          1     5                  2                 0   \n",
       "\n",
       "   BATHROOM  POINT OF CONTACT    RENT  \n",
       "0         2                 0  200000  \n",
       "1         3                 0  200000  "
      ]
     },
     "execution_count": 12,
     "metadata": {},
     "output_type": "execute_result"
    }
   ],
   "source": [
    "df = df.drop(['POSTED ON', 'AREA LOCALITY'], axis=1)\n",
    "df.head(2)\n"
   ]
  },
  {
   "cell_type": "code",
   "execution_count": null,
   "id": "8115b1b0",
   "metadata": {},
   "outputs": [],
   "source": [
    "X = df.iloc[:,:-1]\n",
    "y = df.iloc[:,-1]\n"
   ]
  },
  {
   "cell_type": "code",
   "execution_count": 30,
   "id": "5ced241a",
   "metadata": {
    "scrolled": true
   },
   "outputs": [
    {
     "name": "stdout",
     "output_type": "stream",
     "text": [
      "[5.03266872e+02 4.90858247e+05 1.15369083e+04 1.44356647e+02\n",
      " 1.25303917e+03 2.26996373e+02 8.22338228e+01 7.41085571e+02\n",
      " 1.27465003e+03] \n",
      "\n"
     ]
    }
   ],
   "source": [
    "test = SelectKBest(score_func=chi2, k=8) \n",
    "fit = test.fit(X,y)\n",
    "print(fit.scores_, \"\\n\")"
   ]
  },
  {
   "cell_type": "code",
   "execution_count": 31,
   "id": "2833adcf",
   "metadata": {
    "scrolled": true
   },
   "outputs": [],
   "source": [
    "selected_feature_indices = fit.get_support(indices=True)\n",
    "\n",
    "X_np = X.values if isinstance(X, pd.DataFrame) else X\n",
    "\n",
    "X_selected = X_np[:, selected_feature_indices]\n",
    "\n",
    "X_train, X_test, y_train, y_test = train_test_split(X_selected, y, test_size=0.2, random_state=42)\n"
   ]
  },
  {
   "cell_type": "code",
   "execution_count": 33,
   "id": "85a75e1e",
   "metadata": {},
   "outputs": [
    {
     "name": "stdout",
     "output_type": "stream",
     "text": [
      "R-Squared: 0.5985794248828766\n",
      "Adjusted R-Squared: 0.5950230964211525\n",
      "Mean Squared Error: 438155443.9109917\n",
      "Root Mean Squared Error: 20932.162905705463\n",
      "Mean Absolute Error: 13659.8234182336\n"
     ]
    }
   ],
   "source": [
    "model = LinearRegression()\n",
    "model.fit(X_train, y_train)\n",
    "\n",
    "y_pred = model.predict(X_test)\n",
    "\n",
    "r2 = metrics.r2_score(y_test, y_pred)  # R-Squared\n",
    "print('R-Squared:', r2)\n",
    "\n",
    "adjusted_r2 = 1 - (1-r2)*(len(y_test)-1)/(len(y_test)-X_test.shape[1]-1)  # Adjusted R-Squared\n",
    "print('Adjusted R-Squared:', adjusted_r2)\n",
    "\n",
    "mse = metrics.mean_squared_error(y_test, y_pred)  # Mean Squared Error\n",
    "print('Mean Squared Error:', mse)\n",
    "\n",
    "rmse = np.sqrt(mse)  # Root Mean Squared Error\n",
    "print('Root Mean Squared Error:', rmse)\n",
    "\n",
    "mae = metrics.mean_absolute_error(y_test, y_pred)  # Mean Absolute Error\n",
    "print('Mean Absolute Error:', mae)"
   ]
  },
  {
   "cell_type": "code",
   "execution_count": null,
   "id": "6498fd8d",
   "metadata": {},
   "outputs": [],
   "source": []
  },
  {
   "cell_type": "code",
   "execution_count": null,
   "id": "15ef6de3",
   "metadata": {},
   "outputs": [],
   "source": []
  },
  {
   "cell_type": "code",
   "execution_count": null,
   "id": "97e4f5a2",
   "metadata": {},
   "outputs": [],
   "source": []
  },
  {
   "cell_type": "code",
   "execution_count": null,
   "id": "21814d19",
   "metadata": {},
   "outputs": [],
   "source": []
  }
 ],
 "metadata": {
  "kernelspec": {
   "display_name": "Python 3 (ipykernel)",
   "language": "python",
   "name": "python3"
  },
  "language_info": {
   "codemirror_mode": {
    "name": "ipython",
    "version": 3
   },
   "file_extension": ".py",
   "mimetype": "text/x-python",
   "name": "python",
   "nbconvert_exporter": "python",
   "pygments_lexer": "ipython3",
   "version": "3.11.5"
  }
 },
 "nbformat": 4,
 "nbformat_minor": 5
}
